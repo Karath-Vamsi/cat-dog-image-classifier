{
 "cells": [
  {
   "cell_type": "markdown",
   "metadata": {},
   "source": [
    "DATA COLLECTION"
   ]
  },
  {
   "cell_type": "code",
   "execution_count": 1,
   "metadata": {},
   "outputs": [
    {
     "name": "stdout",
     "output_type": "stream",
     "text": [
      "Failed to download file: HTTP status code 404\n"
     ]
    }
   ],
   "source": [
    "import requests\n",
    "import os\n",
    "\n",
    "url = 'https://download.microsoft.com/download/3/E/1/3E1C3F21-ECDB-4869-8368-6DEBA77B919F/kagglecatsanddogs_3367a.zip'\n",
    "downloads_folder = os.path.join(os.path.expanduser('~'), 'Downloads')\n",
    "output_file = os.path.join(downloads_folder, 'cats-and-dogs.zip')\n",
    "\n",
    "try:\n",
    "    response = requests.get(url)\n",
    "    \n",
    "    # Check if the request was successful (status code 200)\n",
    "    if response.status_code == 200:\n",
    "        with open(output_file, 'wb') as f:\n",
    "            f.write(response.content)\n",
    "        print(f\"File downloaded to {output_file}\")\n",
    "    else:\n",
    "        print(f\"Failed to download file: HTTP status code {response.status_code}\")\n",
    "\n",
    "except requests.exceptions.RequestException as e:\n",
    "    print(f\"Error downloading file: {e}\")"
   ]
  },
  {
   "cell_type": "markdown",
   "metadata": {},
   "source": [
    "download manually from:\n",
    "\n",
    "https://www.microsoft.com/en-us/download/confirmation.aspx?id=54765"
   ]
  },
  {
   "cell_type": "code",
   "execution_count": 2,
   "metadata": {},
   "outputs": [
    {
     "name": "stdout",
     "output_type": "stream",
     "text": [
      "Contents extracted to: C:\\Users\\karat\\Downloads\\kagglecatsanddogs_5340\n"
     ]
    }
   ],
   "source": [
    "import zipfile\n",
    "\n",
    "local_zip = r\"C:\\Users\\karat\\Downloads\\kagglecatsanddogs_5340.zip\"\n",
    "extract_dir = r\"C:\\Users\\karat\\Downloads\\kagglecatsanddogs_5340\"\n",
    "\n",
    "os.makedirs(extract_dir, exist_ok=True)\n",
    "\n",
    "with zipfile.ZipFile(local_zip, 'r') as zip_ref:\n",
    "    zip_ref.extractall(extract_dir)\n",
    "\n",
    "print(f\"Contents extracted to: {extract_dir}\")"
   ]
  },
  {
   "cell_type": "code",
   "execution_count": 3,
   "metadata": {},
   "outputs": [
    {
     "name": "stdout",
     "output_type": "stream",
     "text": [
      "12501\n",
      "12501\n"
     ]
    }
   ],
   "source": [
    "cats = r\"C:\\Users\\karat\\Downloads\\kagglecatsanddogs_5340\\PetImages\\Cat\\\\\"\n",
    "dogs = r\"C:\\Users\\karat\\Downloads\\kagglecatsanddogs_5340\\PetImages\\Dog\\\\\"\n",
    "print(len(os.listdir(cats)))\n",
    "print(len(os.listdir(dogs))) "
   ]
  },
  {
   "cell_type": "code",
   "execution_count": 4,
   "metadata": {},
   "outputs": [
    {
     "name": "stdout",
     "output_type": "stream",
     "text": [
      "666.jpg is zero length, so ignoring.\n",
      "11702.jpg is zero length, so ignoring.\n"
     ]
    }
   ],
   "source": [
    "import random\n",
    "from shutil import copyfile\n",
    "\n",
    "dir = r\"C:\\Users\\karat\\Downloads\\kagglecatsanddogs_5340\"\n",
    "\n",
    "try:\n",
    "    os.makedirs(os.path.join(dir, 'cats-v-dogs', 'training', 'cats'))\n",
    "    os.makedirs(os.path.join(dir, 'cats-v-dogs', 'testing', 'cats'))\n",
    "    os.makedirs(os.path.join(dir, 'cats-v-dogs', 'training', 'dogs'))\n",
    "    os.makedirs(os.path.join(dir, 'cats-v-dogs', 'testing', 'dogs'))\n",
    "except OSError:\n",
    "    pass\n",
    "\n",
    "def split_data(SOURCE, TRAINING, TESTING, SPLIT_SIZE):\n",
    "    files = []\n",
    "    for filename in os.listdir(SOURCE):\n",
    "        file = os.path.join(SOURCE, filename)\n",
    "        if os.path.getsize(file) > 0:\n",
    "            files.append(filename)\n",
    "        else:\n",
    "            print(filename + \" is zero length, so ignoring.\")\n",
    "\n",
    "    training_length = int(len(files) * SPLIT_SIZE)\n",
    "    testing_length = int(len(files) - training_length)\n",
    "    shuffled_set = random.sample(files, len(files))\n",
    "    training_set = shuffled_set[0:training_length]\n",
    "    testing_set = shuffled_set[training_length:]\n",
    "\n",
    "    for filename in training_set:\n",
    "        this_file = os.path.join(SOURCE, filename)\n",
    "        destination = os.path.join(TRAINING, filename)\n",
    "        copyfile(this_file, destination)\n",
    "\n",
    "    for filename in testing_set:\n",
    "        this_file = os.path.join(SOURCE, filename)\n",
    "        destination = os.path.join(TESTING, filename)\n",
    "        copyfile(this_file, destination)\n",
    "\n",
    "CAT_SOURCE_DIR = os.path.join(dir, \"PetImages\", \"Cat\")\n",
    "TRAINING_CATS_DIR = os.path.join(dir, \"cats-v-dogs\", \"training\", \"cats\")\n",
    "TESTING_CATS_DIR = os.path.join(dir, \"cats-v-dogs\", \"testing\", \"cats\")\n",
    "DOG_SOURCE_DIR = os.path.join(dir, \"PetImages\", \"Dog\")\n",
    "TRAINING_DOGS_DIR = os.path.join(dir, \"cats-v-dogs\", \"training\", \"dogs\")\n",
    "TESTING_DOGS_DIR = os.path.join(dir, \"cats-v-dogs\", \"testing\", \"dogs\")\n",
    "\n",
    "split_size = 0.9\n",
    "split_data(CAT_SOURCE_DIR, TRAINING_CATS_DIR, TESTING_CATS_DIR, split_size)\n",
    "split_data(DOG_SOURCE_DIR, TRAINING_DOGS_DIR, TESTING_DOGS_DIR, split_size)"
   ]
  },
  {
   "cell_type": "code",
   "execution_count": 5,
   "metadata": {},
   "outputs": [
    {
     "name": "stdout",
     "output_type": "stream",
     "text": [
      "12377\n",
      "12372\n",
      "2377\n",
      "2372\n"
     ]
    }
   ],
   "source": [
    "training_cats_dir = os.path.join(dir, 'cats-v-dogs', 'training', 'cats')\n",
    "training_dogs_dir = os.path.join(dir, 'cats-v-dogs', 'training', 'dogs')\n",
    "testing_cats_dir = os.path.join(dir, 'cats-v-dogs', 'testing', 'cats')\n",
    "testing_dogs_dir = os.path.join(dir, 'cats-v-dogs', 'testing', 'dogs')\n",
    "\n",
    "print(len(os.listdir(training_cats_dir)))\n",
    "print(len(os.listdir(training_dogs_dir)))\n",
    "print(len(os.listdir(testing_cats_dir)))\n",
    "print(len(os.listdir(testing_dogs_dir)))\n"
   ]
  },
  {
   "cell_type": "markdown",
   "metadata": {},
   "source": [
    "MODEL BUILDING"
   ]
  },
  {
   "cell_type": "code",
   "execution_count": 6,
   "metadata": {},
   "outputs": [
    {
     "name": "stdout",
     "output_type": "stream",
     "text": [
      "2.16.1\n"
     ]
    }
   ],
   "source": [
    "import tensorflow as tf\n",
    "print(tf.__version__)"
   ]
  },
  {
   "cell_type": "code",
   "execution_count": 9,
   "metadata": {},
   "outputs": [],
   "source": [
    "from tensorflow.keras.optimizers import Adam\n",
    "from tensorflow.keras.preprocessing.image import ImageDataGenerator\n",
    "import numpy as np"
   ]
  },
  {
   "cell_type": "code",
   "execution_count": 39,
   "metadata": {},
   "outputs": [],
   "source": [
    "model = tf.keras.models.Sequential([\n",
    "    tf.keras.layers.Conv2D(16, (3, 3), activation='relu', input_shape=(150, 150, 3)),\n",
    "    tf.keras.layers.MaxPooling2D(2, 2),\n",
    "    tf.keras.layers.Conv2D(32, (3, 3), activation='relu'),\n",
    "    tf.keras.layers.MaxPooling2D(2, 2),\n",
    "    tf.keras.layers.Conv2D(64, (3, 3), activation='relu'),\n",
    "    tf.keras.layers.MaxPooling2D(2, 2),\n",
    "    tf.keras.layers.Flatten(),\n",
    "    tf.keras.layers.Dense(512, activation='relu'),\n",
    "    tf.keras.layers.Dense(1, activation='sigmoid')\n",
    "]) \n",
    "\n",
    "\n",
    "model.compile(\n",
    "            optimizer=Adam(0.00325),\n",
    "            loss='binary_crossentropy', \n",
    "            metrics=['accuracy']\n",
    "            )"
   ]
  },
  {
   "cell_type": "code",
   "execution_count": 40,
   "metadata": {},
   "outputs": [],
   "source": [
    "class GrayscaleImageDataGenerator(ImageDataGenerator):\n",
    "    def flow_from_directory(self, directory, *args, **kwargs):\n",
    "        generator = super().flow_from_directory(directory, *args, **kwargs)\n",
    "        \n",
    "        for batch in generator:\n",
    "            batch_x = batch[0]\n",
    "            batch_x = np.dot(batch_x[..., :3], [0.2989, 0.5870, 0.1140])\n",
    "            batch_x = np.expand_dims(batch_x, axis=-1) \n",
    "            yield batch_x, batch[1]\n"
   ]
  },
  {
   "cell_type": "code",
   "execution_count": 47,
   "metadata": {},
   "outputs": [],
   "source": [
    "def brightness_and_contrast_adjustment(image):\n",
    "    brightness_factor = np.random.uniform(0.8, 1.2)\n",
    "    contrast_factor = np.random.uniform(0.8, 1.2)\n",
    "    image = tf.image.adjust_brightness(image, delta=brightness_factor - 1.0)\n",
    "    image = tf.image.adjust_contrast(image, contrast_factor)\n",
    "    return image"
   ]
  },
  {
   "cell_type": "code",
   "execution_count": 48,
   "metadata": {},
   "outputs": [
    {
     "name": "stdout",
     "output_type": "stream",
     "text": [
      "Found 24747 images belonging to 2 classes.\n",
      "Found 4749 images belonging to 2 classes.\n"
     ]
    }
   ],
   "source": [
    "training_loc = r\"C:\\Users\\karat\\Downloads\\kagglecatsanddogs_5340\\cats-v-dogs\\training\"\n",
    "\n",
    "# image augmentation\n",
    "train_datagen = ImageDataGenerator(rescale=1.0/255.,\n",
    "                                    #rotation_range=20,\n",
    "                                    width_shift_range=0.15,    \n",
    "                                    height_shift_range=0.15, \n",
    "                                    #shear_range=0.1,    \n",
    "                                    zoom_range=0.15,\n",
    "                                    #horizontal_flip=True,           \n",
    "                                    fill_mode='nearest',\n",
    "                                    preprocessing_function=brightness_and_contrast_adjustment)\n",
    "\n",
    "train_generator = train_datagen.flow_from_directory(training_loc,\n",
    "                                                    batch_size=100,\n",
    "                                                    class_mode='binary',\n",
    "                                                    target_size=(150, 150))\n",
    " \n",
    "valid_loc = r\"C:\\Users\\karat\\Downloads\\kagglecatsanddogs_5340\\cats-v-dogs\\testing\"\n",
    "validation_datagen = ImageDataGenerator(rescale=1.0/255.)\n",
    "validation_generator = validation_datagen.flow_from_directory(valid_loc,\n",
    "                                                              batch_size=100,\n",
    "                                                              class_mode='binary',\n",
    "                                                              target_size=(150, 150))"
   ]
  },
  {
   "cell_type": "code",
   "execution_count": 49,
   "metadata": {},
   "outputs": [
    {
     "name": "stdout",
     "output_type": "stream",
     "text": [
      "Epoch 1/10\n",
      "\u001b[1m248/248\u001b[0m \u001b[32m━━━━━━━━━━━━━━━━━━━━\u001b[0m\u001b[37m\u001b[0m \u001b[1m569s\u001b[0m 2s/step - accuracy: 0.8891 - loss: 0.2610 - val_accuracy: 0.9303 - val_loss: 0.1659\n",
      "Epoch 2/10\n",
      "\u001b[1m248/248\u001b[0m \u001b[32m━━━━━━━━━━━━━━━━━━━━\u001b[0m\u001b[37m\u001b[0m \u001b[1m656s\u001b[0m 3s/step - accuracy: 0.8964 - loss: 0.2453 - val_accuracy: 0.8951 - val_loss: 0.2377\n",
      "Epoch 3/10\n",
      "\u001b[1m248/248\u001b[0m \u001b[32m━━━━━━━━━━━━━━━━━━━━\u001b[0m\u001b[37m\u001b[0m \u001b[1m1126s\u001b[0m 4s/step - accuracy: 0.8912 - loss: 0.2576 - val_accuracy: 0.9231 - val_loss: 0.1783\n",
      "Epoch 4/10\n",
      "\u001b[1m248/248\u001b[0m \u001b[32m━━━━━━━━━━━━━━━━━━━━\u001b[0m\u001b[37m\u001b[0m \u001b[1m871s\u001b[0m 3s/step - accuracy: 0.8970 - loss: 0.2452 - val_accuracy: 0.9290 - val_loss: 0.1696\n",
      "Epoch 5/10\n",
      "\u001b[1m248/248\u001b[0m \u001b[32m━━━━━━━━━━━━━━━━━━━━\u001b[0m\u001b[37m\u001b[0m \u001b[1m742s\u001b[0m 3s/step - accuracy: 0.9024 - loss: 0.2389 - val_accuracy: 0.9147 - val_loss: 0.1943\n",
      "Epoch 6/10\n",
      "\u001b[1m248/248\u001b[0m \u001b[32m━━━━━━━━━━━━━━━━━━━━\u001b[0m\u001b[37m\u001b[0m \u001b[1m743s\u001b[0m 3s/step - accuracy: 0.9026 - loss: 0.2330 - val_accuracy: 0.9151 - val_loss: 0.1972\n",
      "Epoch 7/10\n",
      "\u001b[1m248/248\u001b[0m \u001b[32m━━━━━━━━━━━━━━━━━━━━\u001b[0m\u001b[37m\u001b[0m \u001b[1m819s\u001b[0m 3s/step - accuracy: 0.8979 - loss: 0.2391 - val_accuracy: 0.9128 - val_loss: 0.1997\n",
      "Epoch 8/10\n",
      "\u001b[1m248/248\u001b[0m \u001b[32m━━━━━━━━━━━━━━━━━━━━\u001b[0m\u001b[37m\u001b[0m \u001b[1m557s\u001b[0m 2s/step - accuracy: 0.9046 - loss: 0.2343 - val_accuracy: 0.9154 - val_loss: 0.2051\n",
      "Epoch 9/10\n",
      "\u001b[1m248/248\u001b[0m \u001b[32m━━━━━━━━━━━━━━━━━━━━\u001b[0m\u001b[37m\u001b[0m \u001b[1m741s\u001b[0m 3s/step - accuracy: 0.9081 - loss: 0.2216 - val_accuracy: 0.9250 - val_loss: 0.1784\n",
      "Epoch 10/10\n",
      "\u001b[1m248/248\u001b[0m \u001b[32m━━━━━━━━━━━━━━━━━━━━\u001b[0m\u001b[37m\u001b[0m \u001b[1m870s\u001b[0m 3s/step - accuracy: 0.9047 - loss: 0.2334 - val_accuracy: 0.9259 - val_loss: 0.1793\n"
     ]
    }
   ],
   "source": [
    "history = model.fit(train_generator,\n",
    "                    epochs=10,\n",
    "                    verbose=1,\n",
    "                    validation_data=validation_generator)"
   ]
  },
  {
   "cell_type": "code",
   "execution_count": 55,
   "metadata": {},
   "outputs": [
    {
     "name": "stdout",
     "output_type": "stream",
     "text": [
      "accuracy: 90.43%\n"
     ]
    }
   ],
   "source": [
    "acc = history.history['accuracy'][-1]*100\n",
    "print(f\"accuracy: {acc:.2f}%\")"
   ]
  },
  {
   "cell_type": "code",
   "execution_count": 50,
   "metadata": {},
   "outputs": [
    {
     "name": "stdout",
     "output_type": "stream",
     "text": [
      "\u001b[1m1/1\u001b[0m \u001b[32m━━━━━━━━━━━━━━━━━━━━\u001b[0m\u001b[37m\u001b[0m \u001b[1m0s\u001b[0m 112ms/step\n",
      "download_c.jpeg is a cat\n",
      "\u001b[1m1/1\u001b[0m \u001b[32m━━━━━━━━━━━━━━━━━━━━\u001b[0m\u001b[37m\u001b[0m \u001b[1m0s\u001b[0m 50ms/step\n",
      "download_c2.jpeg is a dog\n",
      "\u001b[1m1/1\u001b[0m \u001b[32m━━━━━━━━━━━━━━━━━━━━\u001b[0m\u001b[37m\u001b[0m \u001b[1m0s\u001b[0m 51ms/step\n",
      "download_c3.jpeg is a cat\n",
      "\u001b[1m1/1\u001b[0m \u001b[32m━━━━━━━━━━━━━━━━━━━━\u001b[0m\u001b[37m\u001b[0m \u001b[1m0s\u001b[0m 39ms/step\n",
      "download_d.jpeg is a dog\n",
      "\u001b[1m1/1\u001b[0m \u001b[32m━━━━━━━━━━━━━━━━━━━━\u001b[0m\u001b[37m\u001b[0m \u001b[1m0s\u001b[0m 42ms/step\n",
      "download_d2.jpeg is a dog\n",
      "\u001b[1m1/1\u001b[0m \u001b[32m━━━━━━━━━━━━━━━━━━━━\u001b[0m\u001b[37m\u001b[0m \u001b[1m0s\u001b[0m 39ms/step\n",
      "download_d3.jpeg is a dog\n",
      "\u001b[1m1/1\u001b[0m \u001b[32m━━━━━━━━━━━━━━━━━━━━\u001b[0m\u001b[37m\u001b[0m \u001b[1m0s\u001b[0m 32ms/step\n",
      "download_d4.jpeg is a dog\n",
      "\u001b[1m1/1\u001b[0m \u001b[32m━━━━━━━━━━━━━━━━━━━━\u001b[0m\u001b[37m\u001b[0m \u001b[1m0s\u001b[0m 31ms/step\n",
      "images_c.jpeg is a dog\n",
      "\u001b[1m1/1\u001b[0m \u001b[32m━━━━━━━━━━━━━━━━━━━━\u001b[0m\u001b[37m\u001b[0m \u001b[1m0s\u001b[0m 31ms/step\n",
      "images_c2.jpeg is a cat\n",
      "\u001b[1m1/1\u001b[0m \u001b[32m━━━━━━━━━━━━━━━━━━━━\u001b[0m\u001b[37m\u001b[0m \u001b[1m0s\u001b[0m 32ms/step\n",
      "images_d.jpeg is a dog\n"
     ]
    }
   ],
   "source": [
    "import numpy as np\n",
    "from PIL import Image\n",
    "from keras.preprocessing import image\n",
    "\n",
    "directory = r\"C:\\Users\\karat\\Downloads\\testing_images_for_model\"\n",
    "\n",
    "image_files = [file for file in os.listdir(directory) if file.endswith(('jpg', 'jpeg', 'png'))]\n",
    "\n",
    "for file in image_files:\n",
    "    img_path = os.path.join(directory, file)\n",
    "\n",
    "    img = Image.open(img_path).convert(\"RGB\")\n",
    "    img = img.resize((150, 150))\n",
    "    \n",
    "    x = image.img_to_array(img)\n",
    "    x = np.expand_dims(x, axis=0)\n",
    "    x = x / 255.0\n",
    "    \n",
    "    classes = model.predict(x)\n",
    "    \n",
    "    if classes[0] > 0.5:\n",
    "        print(f\"{file} is a dog\")\n",
    "    else:\n",
    "        print(f\"{file} is a cat\")"
   ]
  }
 ],
 "metadata": {
  "kernelspec": {
   "display_name": "base",
   "language": "python",
   "name": "python3"
  },
  "language_info": {
   "codemirror_mode": {
    "name": "ipython",
    "version": 3
   },
   "file_extension": ".py",
   "mimetype": "text/x-python",
   "name": "python",
   "nbconvert_exporter": "python",
   "pygments_lexer": "ipython3",
   "version": "3.11.7"
  }
 },
 "nbformat": 4,
 "nbformat_minor": 2
}
