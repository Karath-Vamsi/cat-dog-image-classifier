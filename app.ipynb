{
 "cells": [
  {
   "cell_type": "markdown",
   "metadata": {},
   "source": [
    "Data"
   ]
  },
  {
   "cell_type": "code",
   "execution_count": 1,
   "metadata": {},
   "outputs": [
    {
     "name": "stdout",
     "output_type": "stream",
     "text": [
      "Failed to download file: HTTP status code 404\n"
     ]
    }
   ],
   "source": [
    "import requests\n",
    "import os\n",
    "\n",
    "url = 'https://download.microsoft.com/download/3/E/1/3E1C3F21-ECDB-4869-8368-6DEBA77B919F/kagglecatsanddogs_3367a.zip'\n",
    "downloads_folder = os.path.join(os.path.expanduser('~'), 'Downloads')\n",
    "output_file = os.path.join(downloads_folder, 'cats-and-dogs.zip')\n",
    "\n",
    "try:\n",
    "    response = requests.get(url)\n",
    "    \n",
    "    # Check if the request was successful (status code 200)\n",
    "    if response.status_code == 200:\n",
    "        with open(output_file, 'wb') as f:\n",
    "            f.write(response.content)\n",
    "        print(f\"File downloaded to {output_file}\")\n",
    "    else:\n",
    "        print(f\"Failed to download file: HTTP status code {response.status_code}\")\n",
    "\n",
    "except requests.exceptions.RequestException as e:\n",
    "    print(f\"Error downloading file: {e}\")"
   ]
  },
  {
   "cell_type": "markdown",
   "metadata": {},
   "source": [
    "download manually from:\n",
    "\n",
    "https://www.microsoft.com/en-us/download/confirmation.aspx?id=54765"
   ]
  },
  {
   "cell_type": "code",
   "execution_count": 2,
   "metadata": {},
   "outputs": [
    {
     "name": "stdout",
     "output_type": "stream",
     "text": [
      "Contents extracted to: C:\\Users\\karat\\Downloads\\kagglecatsanddogs_5340\n"
     ]
    }
   ],
   "source": [
    "import zipfile\n",
    "\n",
    "local_zip = r\"C:\\Users\\karat\\Downloads\\kagglecatsanddogs_5340.zip\"\n",
    "extract_dir = r\"C:\\Users\\karat\\Downloads\\kagglecatsanddogs_5340\"\n",
    "\n",
    "os.makedirs(extract_dir, exist_ok=True)\n",
    "\n",
    "with zipfile.ZipFile(local_zip, 'r') as zip_ref:\n",
    "    zip_ref.extractall(extract_dir)\n",
    "\n",
    "print(f\"Contents extracted to: {extract_dir}\")"
   ]
  },
  {
   "cell_type": "code",
   "execution_count": 4,
   "metadata": {},
   "outputs": [
    {
     "name": "stdout",
     "output_type": "stream",
     "text": [
      "12501\n",
      "12501\n"
     ]
    }
   ],
   "source": [
    "cats = r\"C:\\Users\\karat\\Downloads\\kagglecatsanddogs_5340\\PetImages\\Cat\\\\\"\n",
    "dogs = r\"C:\\Users\\karat\\Downloads\\kagglecatsanddogs_5340\\PetImages\\Dog\\\\\"\n",
    "print(len(os.listdir(cats)))\n",
    "print(len(os.listdir(dogs))) "
   ]
  },
  {
   "cell_type": "code",
   "execution_count": 6,
   "metadata": {},
   "outputs": [
    {
     "name": "stdout",
     "output_type": "stream",
     "text": [
      "666.jpg is zero length, so ignoring.\n",
      "11702.jpg is zero length, so ignoring.\n"
     ]
    }
   ],
   "source": [
    "import random\n",
    "import os\n",
    "from shutil import copyfile\n",
    "\n",
    "dir = r\"C:\\Users\\karat\\Downloads\\kagglecatsanddogs_5340\"\n",
    "\n",
    "try:\n",
    "    os.makedirs(os.path.join(dir, 'cats-v-dogs', 'training', 'cats'))\n",
    "    os.makedirs(os.path.join(dir, 'cats-v-dogs', 'testing', 'cats'))\n",
    "    os.makedirs(os.path.join(dir, 'cats-v-dogs', 'training', 'dogs'))\n",
    "    os.makedirs(os.path.join(dir, 'cats-v-dogs', 'testing', 'dogs'))\n",
    "except OSError:\n",
    "    pass\n",
    "\n",
    "def split_data(SOURCE, TRAINING, TESTING, SPLIT_SIZE):\n",
    "    files = []\n",
    "    for filename in os.listdir(SOURCE):\n",
    "        file = os.path.join(SOURCE, filename)\n",
    "        if os.path.getsize(file) > 0:\n",
    "            files.append(filename)\n",
    "        else:\n",
    "            print(filename + \" is zero length, so ignoring.\")\n",
    "\n",
    "    training_length = int(len(files) * SPLIT_SIZE)\n",
    "    testing_length = int(len(files) - training_length)\n",
    "    shuffled_set = random.sample(files, len(files))\n",
    "    training_set = shuffled_set[0:training_length]\n",
    "    testing_set = shuffled_set[training_length:]\n",
    "\n",
    "    for filename in training_set:\n",
    "        this_file = os.path.join(SOURCE, filename)\n",
    "        destination = os.path.join(TRAINING, filename)\n",
    "        copyfile(this_file, destination)\n",
    "\n",
    "    for filename in testing_set:\n",
    "        this_file = os.path.join(SOURCE, filename)\n",
    "        destination = os.path.join(TESTING, filename)\n",
    "        copyfile(this_file, destination)\n",
    "\n",
    "CAT_SOURCE_DIR = os.path.join(dir, \"PetImages\", \"Cat\")\n",
    "TRAINING_CATS_DIR = os.path.join(dir, \"cats-v-dogs\", \"training\", \"cats\")\n",
    "TESTING_CATS_DIR = os.path.join(dir, \"cats-v-dogs\", \"testing\", \"cats\")\n",
    "DOG_SOURCE_DIR = os.path.join(dir, \"PetImages\", \"Dog\")\n",
    "TRAINING_DOGS_DIR = os.path.join(dir, \"cats-v-dogs\", \"training\", \"dogs\")\n",
    "TESTING_DOGS_DIR = os.path.join(dir, \"cats-v-dogs\", \"testing\", \"dogs\")\n",
    "\n",
    "split_size = 0.9\n",
    "split_data(CAT_SOURCE_DIR, TRAINING_CATS_DIR, TESTING_CATS_DIR, split_size)\n",
    "split_data(DOG_SOURCE_DIR, TRAINING_DOGS_DIR, TESTING_DOGS_DIR, split_size)"
   ]
  },
  {
   "cell_type": "code",
   "execution_count": 7,
   "metadata": {},
   "outputs": [
    {
     "name": "stdout",
     "output_type": "stream",
     "text": [
      "11250\n",
      "11250\n",
      "1250\n",
      "1250\n"
     ]
    }
   ],
   "source": [
    "training_cats_dir = os.path.join(dir, 'cats-v-dogs', 'training', 'cats')\n",
    "training_dogs_dir = os.path.join(dir, 'cats-v-dogs', 'training', 'dogs')\n",
    "testing_cats_dir = os.path.join(dir, 'cats-v-dogs', 'testing', 'cats')\n",
    "testing_dogs_dir = os.path.join(dir, 'cats-v-dogs', 'testing', 'dogs')\n",
    "\n",
    "print(len(os.listdir(training_cats_dir)))\n",
    "print(len(os.listdir(training_dogs_dir)))\n",
    "print(len(os.listdir(testing_cats_dir)))\n",
    "print(len(os.listdir(testing_dogs_dir)))\n"
   ]
  },
  {
   "cell_type": "code",
   "execution_count": null,
   "metadata": {},
   "outputs": [],
   "source": []
  }
 ],
 "metadata": {
  "kernelspec": {
   "display_name": "base",
   "language": "python",
   "name": "python3"
  },
  "language_info": {
   "codemirror_mode": {
    "name": "ipython",
    "version": 3
   },
   "file_extension": ".py",
   "mimetype": "text/x-python",
   "name": "python",
   "nbconvert_exporter": "python",
   "pygments_lexer": "ipython3",
   "version": "3.11.7"
  }
 },
 "nbformat": 4,
 "nbformat_minor": 2
}
